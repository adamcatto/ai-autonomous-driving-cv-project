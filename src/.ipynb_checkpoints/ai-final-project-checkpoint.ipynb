{
 "cells": [
  {
   "cell_type": "markdown",
   "metadata": {},
   "source": [
    "# AI Final Project\n",
    "\n",
    "## Bag of features"
   ]
  },
  {
   "cell_type": "code",
   "execution_count": 1,
   "metadata": {},
   "outputs": [],
   "source": [
    "#!pip install tensorflow"
   ]
  },
  {
   "cell_type": "code",
   "execution_count": 2,
   "metadata": {},
   "outputs": [],
   "source": [
    "#import tensorflow as tf\n",
    "import cv2\n",
    "import numpy as np\n",
    "import os\n",
    "from tqdm import tqdm\n",
    "%matplotlib inline\n",
    "from matplotlib import pyplot as plt\n",
    "from scipy.cluster.vq import kmeans, vq"
   ]
  },
  {
   "cell_type": "code",
   "execution_count": 3,
   "metadata": {},
   "outputs": [],
   "source": [
    "raw_data_path = 'data/object-detection/training/image_2/'\n",
    "raw_data_files = sorted(os.listdir(raw_data_path))[1:]\n",
    "\n",
    "#test_path = 'data/object-detection/testing/image_2/'\n",
    "#test_files = sorted(os.listdir(test_path))[1:]\n",
    "\n",
    "label_path = 'data/object-detection/labels-final/label_2/'\n",
    "label_files = sorted(os.listdir(label_path))[1:]\n",
    "\n",
    "def image_list(path):\n",
    "    return sorted([os.path.join(path, file) for file in os.listdir(path)])[1:]\n",
    "    \n",
    "raw_images = image_list(raw_data_path)\n",
    "#test_images = image_list(test_path)\n",
    "label_file_paths = image_list(label_path)\n",
    "\n",
    "image_label_zip = np.array(list(zip(raw_images, label_file_paths)))\n",
    "train_size = int(len(image_label_zip) * 0.8)\n",
    "images_split = np.split(image_label_zip, [train_size, len(image_label_zip)])\n",
    "train_set = images_split[0]\n",
    "test_set = images_split[1]"
   ]
  },
  {
   "cell_type": "code",
   "execution_count": 4,
   "metadata": {},
   "outputs": [],
   "source": [
    "# helper function to construct file header string from int\n",
    "def pad_int(num, desired_length):\n",
    "    num_str = str(num)\n",
    "    num_str_len = len(num_str)\n",
    "    assert num_str_len <= desired_length\n",
    "    return '0' * (num_str_len - desired_length) + num_str\n",
    "# set up data structures to store image info\n",
    "\n",
    "def structure_image_data(image_index):\n",
    "    file_num_str = pad_int(num=image_index, desired_length=6)\n",
    "    with open(train_set[image_index][1], 'r') as label_file:\n",
    "        metadata = []\n",
    "        for line in label_file:\n",
    "            split_info = line.split(' ')\n",
    "            class_label = split_info[0]\n",
    "            bbox = split_info[4:8]\n",
    "            metadata.append((class_label, bbox))\n",
    "    return metadata\n",
    "        \n",
    "image_data_structure = {}\n",
    "for i in range(len(train_set)):\n",
    "    image_data_structure[pad_int(num=i, desired_length=6)] = structure_image_data(i)\n",
    "    \n"
   ]
  },
  {
   "cell_type": "code",
   "execution_count": 6,
   "metadata": {},
   "outputs": [
    {
     "name": "stderr",
     "output_type": "stream",
     "text": [
      "100%|██████████| 500/500 [00:44<00:00, 11.25it/s]\n"
     ]
    }
   ],
   "source": [
    "# Extract features – SIFT\n",
    "key_points_list = []\n",
    "descriptions = []\n",
    "#sift = cv2.SIFT()\n",
    "brisk = cv2.BRISK_create(30)\n",
    "for i in tqdm(range(500)):\n",
    "    img = cv2.imread(train_set[i][0])\n",
    "    grayscale_img = cv2.cvtColor(img, cv2.COLOR_BGR2GRAY)\n",
    "    key_points, description = brisk.detectAndCompute(grayscale_img, None)\n",
    "    #key_points_list.append(key_points)\n",
    "    descriptions.append(description)\n",
    "\n"
   ]
  },
  {
   "cell_type": "code",
   "execution_count": 8,
   "metadata": {},
   "outputs": [
    {
     "name": "stderr",
     "output_type": "stream",
     "text": [
      "100%|██████████| 499/499 [00:23<00:00, 21.21it/s]\n"
     ]
    }
   ],
   "source": [
    "stacked_descriptions = descriptions[0]\n",
    "#stacked_descriptions = np.vstack(descriptions[1:500])\n",
    "\n",
    "for description in tqdm(descriptions[1:500]):\n",
    "    stacked_descriptions = np.vstack((stacked_descriptions, description))\n",
    "\n",
    "stacked_descriptions = stacked_descriptions.astype(float)"
   ]
  },
  {
   "cell_type": "code",
   "execution_count": 12,
   "metadata": {},
   "outputs": [],
   "source": [
    "# k means clustering\n",
    "k = 32\n",
    "voc, var = kmeans(stacked_descriptions, k, 1)"
   ]
  },
  {
   "cell_type": "code",
   "execution_count": 13,
   "metadata": {},
   "outputs": [
    {
     "name": "stdout",
     "output_type": "stream",
     "text": [
      "[[206.91144301 195.91102059 226.3841744  ...  66.18886626  78.52840009\n",
      "  105.3926982 ]\n",
      " [182.27047355 183.73461768 225.62694146 ... 180.51570816 179.73065331\n",
      "  159.43933963]\n",
      " [126.54111133 125.40711159  77.21550372 ...  66.71486672  79.6128969\n",
      "  128.27837123]\n",
      " ...\n",
      " [202.1455284  180.65180218 194.72773228 ... 197.47431814 164.3434264\n",
      "  113.54133729]\n",
      " [181.12852005 157.8404246  201.73153033 ... 104.47873874  92.15759528\n",
      "  114.74323562]\n",
      " [ 81.96876908 106.40100507 122.35383218 ...  55.69565464  79.68192723\n",
      "  109.58423122]] 620.123557271668\n"
     ]
    }
   ],
   "source": [
    "print(voc, var)"
   ]
  },
  {
   "cell_type": "code",
   "execution_count": 17,
   "metadata": {},
   "outputs": [
    {
     "name": "stderr",
     "output_type": "stream",
     "text": [
      "100%|██████████| 500/500 [00:09<00:00, 54.69it/s]\n"
     ]
    }
   ],
   "source": [
    "features = np.zeros((500, 32), \"float32\")\n",
    "for i in tqdm(range(500)):\n",
    "    words, dist = vq(descriptions[i], voc)\n",
    "    for w in words:\n",
    "        features[i][w] += 1"
   ]
  },
  {
   "cell_type": "code",
   "execution_count": 24,
   "metadata": {},
   "outputs": [],
   "source": [
    "num_occ = np.sum(features > 0, axis=0)\n",
    "idf = np.array(np.log(500/num_occ), \"float32\")"
   ]
  },
  {
   "cell_type": "code",
   "execution_count": 60,
   "metadata": {},
   "outputs": [
    {
     "name": "stdout",
     "output_type": "stream",
     "text": [
      "['Truck' 'Car' 'Van' 'Cyclist' 'Misc' 'Tram' 'Pedestrian']\n"
     ]
    },
    {
     "name": "stderr",
     "output_type": "stream",
     "text": [
      "/Users/adamcatto/opt/anaconda3/lib/python3.8/site-packages/sklearn/svm/_base.py:976: ConvergenceWarning: Liblinear failed to converge, increase the number of iterations.\n",
      "  warnings.warn(\"Liblinear failed to converge, increase \"\n"
     ]
    },
    {
     "data": {
      "text/plain": [
       "LinearSVC(max_iter=1000000)"
      ]
     },
     "execution_count": 60,
     "metadata": {},
     "output_type": "execute_result"
    }
   ],
   "source": [
    "from sklearn.svm import LinearSVC\n",
    "s = LinearSVC(max_iter=1000000)\n",
    "print(np.array(list(set([image_data_structure[pad_int(i,6)][0][0] for i in range(500)]))))\n",
    "s.fit(features, np.array([image_data_structure[pad_int(i,6)][0][0] for i in range(500)]))"
   ]
  },
  {
   "cell_type": "code",
   "execution_count": 19,
   "metadata": {},
   "outputs": [
    {
     "data": {
      "image/png": "[encoded data removed]",
      "text/plain": [
       "<Figure size 432x288 with 1 Axes>"
      ]
     },
     "metadata": {
      "needs_background": "light"
     },
     "output_type": "display_data"
    }
   ],
   "source": [
    "n, bins, patches = plt.hist(x=features, bins='auto',\n",
    "                            alpha=0.7, rwidth=0.85)\n",
    "plt.grid(axis='y', alpha=0.75)\n",
    "plt.xlabel('Value')\n",
    "plt.ylabel('Frequency')\n",
    "maxfreq = n.max()\n",
    "plt.ylim(ymax=np.ceil(maxfreq / 10) * 10 if maxfreq % 10 else maxfreq + 10)\n",
    "plt.show()"
   ]
  },
  {
   "cell_type": "markdown",
   "metadata": {},
   "source": [
    "### test"
   ]
  },
  {
   "cell_type": "code",
   "execution_count": 61,
   "metadata": {},
   "outputs": [],
   "source": [
    "\n",
    "def structure_image_data_test(image_index):\n",
    "    file_num_str = pad_int(num=image_index, desired_length=6)\n",
    "    with open(test_set[image_index][1], 'r') as label_file:\n",
    "        metadata = []\n",
    "        for line in label_file:\n",
    "            split_info = line.split(' ')\n",
    "            class_label = split_info[0]\n",
    "            bbox = split_info[4:8]\n",
    "            metadata.append((class_label, bbox))\n",
    "    return metadata\n",
    "        \n",
    "image_data_structure_test = {}\n",
    "for i in range(len(test_set)):\n",
    "    image_data_structure_test[pad_int(num=i, desired_length=6)] = structure_image_data_test(i)\n",
    "    \n"
   ]
  },
  {
   "cell_type": "code",
   "execution_count": 33,
   "metadata": {},
   "outputs": [
    {
     "name": "stderr",
     "output_type": "stream",
     "text": [
      "100%|██████████| 500/500 [00:48<00:00, 10.35it/s]\n"
     ]
    }
   ],
   "source": [
    "# Extract features – SIFT\n",
    "key_points_list_test = []\n",
    "descriptions_test = []\n",
    "#sift = cv2.SIFT()\n",
    "brisk = cv2.BRISK_create(30)\n",
    "for i in tqdm(range(500)):\n",
    "    img = cv2.imread(test_set[i][0])\n",
    "    grayscale_img = cv2.cvtColor(img, cv2.COLOR_BGR2GRAY)\n",
    "    key_points, description = brisk.detectAndCompute(grayscale_img, None)\n",
    "    #key_points_list.append(key_points)\n",
    "    descriptions_test.append(description)\n",
    "\n"
   ]
  },
  {
   "cell_type": "code",
   "execution_count": 34,
   "metadata": {},
   "outputs": [
    {
     "name": "stderr",
     "output_type": "stream",
     "text": [
      "100%|██████████| 499/499 [00:30<00:00, 16.57it/s]\n"
     ]
    }
   ],
   "source": [
    "stacked_descriptions_test = descriptions_test[0]\n",
    "#stacked_descriptions = np.vstack(descriptions[1:500])\n",
    "\n",
    "for description in tqdm(descriptions_test[1:500]):\n",
    "    stacked_descriptions_test = np.vstack((stacked_descriptions_test, description))\n",
    "\n",
    "stacked_descriptions_test = stacked_descriptions_test.astype(float)"
   ]
  },
  {
   "cell_type": "code",
   "execution_count": 35,
   "metadata": {},
   "outputs": [
    {
     "name": "stderr",
     "output_type": "stream",
     "text": [
      "100%|██████████| 500/500 [00:09<00:00, 50.34it/s]\n"
     ]
    }
   ],
   "source": [
    "features_test = np.zeros((500, 32), \"float32\")\n",
    "for i in tqdm(range(500)):\n",
    "    words, dist = vq(descriptions_test[i], voc)\n",
    "    for w in words:\n",
    "        features_test[i][w] += 1"
   ]
  },
  {
   "cell_type": "code",
   "execution_count": 65,
   "metadata": {},
   "outputs": [
    {
     "name": "stdout",
     "output_type": "stream",
     "text": [
      "0.632\n"
     ]
    }
   ],
   "source": [
    "true_classes = [image_data_structure[pad_int(i,6)][0][0] for i in range(500)]\n",
    "predicted_classes = [x for x in s.predict(features_test)]\n",
    "correct_predictions = [i for i in range(len(true_classes)) if true_classes[i] == predicted_classes[i]]\n",
    "print(len(correct_predictions)/len(true_classes))"
   ]
  },
  {
   "cell_type": "markdown",
   "metadata": {},
   "source": [
    "==> Accuracy of 63.2%"
   ]
  },
  {
   "cell_type": "markdown",
   "metadata": {},
   "source": [
    " ## Bounding Box Regression"
   ]
  },
  {
   "cell_type": "code",
   "execution_count": null,
   "metadata": {},
   "outputs": [],
   "source": []
  },
  {
   "cell_type": "code",
   "execution_count": null,
   "metadata": {},
   "outputs": [],
   "source": []
  }
 ],
 "metadata": {
  "kernelspec": {
   "display_name": "Python 3",
   "language": "python",
   "name": "python3"
  },
  "language_info": {
   "codemirror_mode": {
    "name": "ipython",
    "version": 3
   },
   "file_extension": ".py",
   "mimetype": "text/x-python",
   "name": "python",
   "nbconvert_exporter": "python",
   "pygments_lexer": "ipython3",
   "version": "3.8.3"
  }
 },
 "nbformat": 4,
 "nbformat_minor": 4
}
